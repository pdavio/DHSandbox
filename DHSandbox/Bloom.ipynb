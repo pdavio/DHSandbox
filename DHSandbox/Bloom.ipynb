{
 "cells": [
  {
   "cell_type": "code",
   "execution_count": 21,
   "metadata": {
    "collapsed": false,
    "scrolled": true
   },
   "outputs": [],
   "source": [
    "#too use, type following 2 lines without the the #\n",
    "#import bloom\n",
    "#bloom.getCQLQuery()\n",
    "\n",
    "import json, os, nltk, collections\n",
    "from nltk.book import *\n",
    "def allVerbs():\n",
    "    #load all of bloom's verbs from json and return as list\n",
    "    with open('types.json','r') as fp:\n",
    "        return json.load(fp)\n",
    "\n",
    "\n",
    "def perceptionVerbs():\n",
    "    #load all of the canonical perception verbs from txt, split on whitespace to return list\n",
    "    verbs = open('perception_verbs.txt').read()\n",
    "    verbList = []\n",
    "    verbList = verbs.split()\n",
    "    return verbList\n",
    "\n",
    "def bloomPerceptionVerbs():\n",
    "    #produce a filtered list of Bloom's verbs that are only perception verbs\n",
    "    av = allVerbs()\n",
    "    filteredVerbs = av[:] #copy of all verbs\n",
    "    #print(\"verbs before filter:\" + str(len(filteredVerbs)))\n",
    "    pv = perceptionVerbs()\n",
    "\n",
    "    for v in av:\n",
    "        if v not in pv:\n",
    "            filteredVerbs.remove(v)\n",
    "    #print(\"verbs after filter:\" + str(len(filteredVerbs)))\n",
    "    return filteredVerbs\n",
    " \n",
    "def getCQLQuery():\n",
    "    #produce the CQL statement we can cut and paste\n",
    "    filteredVerbs = str(bloomPerceptionVerbs()).replace(\"'\",\"\").replace(\",\",\"|\").replace(\" \",\"\")\n",
    "    \n",
    "    query = \"Command = ['corpquery','ulys_2','(meet [lemma=\\\"\" + str(filteredVerbs) + \"\\\"] [word=\\\"Bloom\\\"] -5 5)']\"\n",
    "    with open(\"query.txt\",\"w\") as qt:\n",
    "        qt.write(query)\n",
    "    print(\"file written to: \" + os.path.dirname(qt.name) + qt.name)\n",
    "    return query\n",
    "\n",
    "\n",
    "def getDist(tokens):\n",
    "    #print(corpus.name)\n",
    "    bpv = perceptionVerbs()\n",
    "    fdist = nltk.FreqDist(tokens)\n",
    "    dist = []\n",
    "    for verb in bpv:\n",
    "        dist.append(fdist[verb]/len(tokens) * 100)\n",
    "    \n",
    "    d = dict(zip(dist,bpv))\n",
    "    od = collections.OrderedDict(sorted(d.items(),reverse=True))\n",
    "    \n",
    "    for key, value in od.items():\n",
    "        print(value,\":\",round(key,3))\n",
    "\n"
   ]
  },
  {
   "cell_type": "code",
   "execution_count": 24,
   "metadata": {
    "collapsed": false
   },
   "outputs": [
    {
     "data": {
      "text/plain": [
       "['detect',\n",
       " 'discern',\n",
       " 'feel',\n",
       " 'hear',\n",
       " 'notice',\n",
       " 'see',\n",
       " 'sense',\n",
       " 'smell',\n",
       " 'taste',\n",
       " 'descry',\n",
       " 'discover',\n",
       " 'espy',\n",
       " 'examine',\n",
       " 'eye',\n",
       " 'glimpse',\n",
       " 'inspect',\n",
       " 'investigate',\n",
       " 'note',\n",
       " 'observe',\n",
       " 'overhear',\n",
       " 'perceive',\n",
       " 'recognize',\n",
       " 'regard',\n",
       " 'savor',\n",
       " 'scan',\n",
       " 'scent',\n",
       " 'scrutinize',\n",
       " 'sight',\n",
       " 'spot',\n",
       " 'spy',\n",
       " 'study',\n",
       " 'survey',\n",
       " 'view',\n",
       " 'watch',\n",
       " 'witness',\n",
       " 'check',\n",
       " 'gape',\n",
       " 'gawk',\n",
       " 'gaze',\n",
       " 'glance',\n",
       " 'glare',\n",
       " 'goggle',\n",
       " 'leer',\n",
       " 'listen',\n",
       " 'look',\n",
       " 'ogle',\n",
       " 'peek',\n",
       " 'peep',\n",
       " 'peer',\n",
       " 'sniff',\n",
       " 'snoop',\n",
       " 'squint',\n",
       " 'stare',\n",
       " 'feel',\n",
       " 'look',\n",
       " 'smell',\n",
       " 'sound',\n",
       " 'taste']"
      ]
     },
     "execution_count": 24,
     "metadata": {},
     "output_type": "execute_result"
    }
   ],
   "source": [
    "import bloom, visualize\n",
    "bloom.perceptionVerbs()"
   ]
  },
  {
   "cell_type": "code",
   "execution_count": 29,
   "metadata": {
    "collapsed": true
   },
   "outputs": [],
   "source": [
    "import visualize"
   ]
  },
  {
   "cell_type": "code",
   "execution_count": null,
   "metadata": {
    "collapsed": true
   },
   "outputs": [],
   "source": [
    "visualize."
   ]
  },
  {
   "cell_type": "code",
   "execution_count": null,
   "metadata": {
    "collapsed": true
   },
   "outputs": [],
   "source": []
  },
  {
   "cell_type": "code",
   "execution_count": null,
   "metadata": {
    "collapsed": true
   },
   "outputs": [],
   "source": []
  },
  {
   "cell_type": "code",
   "execution_count": null,
   "metadata": {
    "collapsed": true
   },
   "outputs": [],
   "source": []
  },
  {
   "cell_type": "code",
   "execution_count": null,
   "metadata": {
    "collapsed": true
   },
   "outputs": [],
   "source": []
  },
  {
   "cell_type": "code",
   "execution_count": null,
   "metadata": {
    "collapsed": true
   },
   "outputs": [],
   "source": []
  },
  {
   "cell_type": "code",
   "execution_count": null,
   "metadata": {
    "collapsed": true
   },
   "outputs": [],
   "source": []
  },
  {
   "cell_type": "code",
   "execution_count": null,
   "metadata": {
    "collapsed": true
   },
   "outputs": [],
   "source": []
  },
  {
   "cell_type": "code",
   "execution_count": null,
   "metadata": {
    "collapsed": true
   },
   "outputs": [],
   "source": []
  },
  {
   "cell_type": "code",
   "execution_count": null,
   "metadata": {
    "collapsed": true
   },
   "outputs": [],
   "source": []
  },
  {
   "cell_type": "code",
   "execution_count": null,
   "metadata": {
    "collapsed": true
   },
   "outputs": [],
   "source": []
  },
  {
   "cell_type": "code",
   "execution_count": null,
   "metadata": {
    "collapsed": true
   },
   "outputs": [],
   "source": []
  },
  {
   "cell_type": "code",
   "execution_count": null,
   "metadata": {
    "collapsed": true
   },
   "outputs": [],
   "source": []
  },
  {
   "cell_type": "code",
   "execution_count": null,
   "metadata": {
    "collapsed": true
   },
   "outputs": [],
   "source": []
  }
 ],
 "metadata": {
  "kernelspec": {
   "display_name": "Python 3",
   "language": "python",
   "name": "python3"
  },
  "language_info": {
   "codemirror_mode": {
    "name": "ipython",
    "version": 3
   },
   "file_extension": ".py",
   "mimetype": "text/x-python",
   "name": "python",
   "nbconvert_exporter": "python",
   "pygments_lexer": "ipython3",
   "version": "3.5.0"
  }
 },
 "nbformat": 4,
 "nbformat_minor": 0
}
