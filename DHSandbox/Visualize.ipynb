{
 "cells": [
  {
   "cell_type": "code",
   "execution_count": 1,
   "metadata": {
    "collapsed": true
   },
   "outputs": [],
   "source": [
    "import matplotlib.pyplot as plt\n",
    "import PIL, random\n",
    "from wordcloud import WordCloud\n",
    "print(\"visualize loaded\")\n",
    "def saveCloud(list):\n",
    "    try:\n",
    "       name = list.name #if corpus\n",
    "    except:\n",
    "       name = \"text\" + (''.join(str(random.randint(0,9)) for _ in range(5))) \n",
    "    \n",
    "    text = ''.join(list)\n",
    "    WordCloud.background_color = \"white\"\n",
    "    wordcloud = WordCloud().generate(text)\n",
    "    \n",
    "    plt.axis(\"off\")\n",
    "    plt.imshow(wordcloud)\n",
    "    plt.show()\n",
    "    plt.savefig(name)\n",
    "\n"
   ]
  },
  {
   "cell_type": "code",
   "execution_count": null,
   "metadata": {
    "collapsed": true
   },
   "outputs": [],
   "source": []
  }
 ],
 "metadata": {
  "kernelspec": {
   "display_name": "Python 3",
   "language": "python",
   "name": "python3"
  },
  "language_info": {
   "codemirror_mode": {
    "name": "ipython",
    "version": 3
   },
   "file_extension": ".py",
   "mimetype": "text/x-python",
   "name": "python",
   "nbconvert_exporter": "python",
   "pygments_lexer": "ipython3",
   "version": "3.5.0"
  }
 },
 "nbformat": 4,
 "nbformat_minor": 0
}
